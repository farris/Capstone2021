{
  "nbformat": 4,
  "nbformat_minor": 0,
  "metadata": {
    "colab": {
      "name": "2021-10-13_eric_colab-helper-functions.ipynb",
      "provenance": [],
      "collapsed_sections": []
    },
    "kernelspec": {
      "display_name": "Python 3",
      "name": "python3"
    },
    "language_info": {
      "name": "python"
    }
  },
  "cells": [
    {
      "cell_type": "markdown",
      "metadata": {
        "id": "ILihxJL_PYEZ"
      },
      "source": [
        "# Colab Helper Functions\n",
        "\n",
        "## Mount the Google Drive\n",
        "You will need to grant Drive access to Colab every time you start a new machine. You can do this by running the following cell. "
      ]
    },
    {
      "cell_type": "code",
      "metadata": {
        "colab": {
          "base_uri": "https://localhost:8080/"
        },
        "id": "S9lFKawEPGUE",
        "outputId": "0b31e09d-9cfa-44d4-9ed5-c5ee2e96b979"
      },
      "source": [
        "from google.colab import drive\n",
        "drive.mount('/content/gdrive', force_remount=True)"
      ],
      "execution_count": 1,
      "outputs": [
        {
          "output_type": "stream",
          "name": "stdout",
          "text": [
            "Mounted at /content/gdrive\n"
          ]
        }
      ]
    },
    {
      "cell_type": "markdown",
      "metadata": {
        "id": "qK4uE2LgSPlV"
      },
      "source": [
        "Once you have Drive authenticated, you can browse for the file by clicking the Folder icon on the left sidebar. For Eric, the Capstone project folder can be found using the path in the next cell. You can have the same path by adding a shortcut to the shared Drive to your personal GDrive."
      ]
    },
    {
      "cell_type": "markdown",
      "metadata": {
        "id": "LvXgc1loxhTj"
      },
      "source": [
        "# Read in the monkey data spreadsheet from Google Drive\n",
        "A copy is also stored in the Github, which you should prefer using.\n",
        "\n",
        "# Important columns\n",
        "`id`: The ID assigned by the NYU CDS team to the scan. All the scan files are named accordingo to this ID.\n",
        "\n",
        "`monkey_id`: The number assigned by the Langone team to the monkey.\n",
        "\n",
        "`constructed_filepath`: The filepath to the original .OCT file, if we were able to find it.\n",
        "\n",
        "`pt_present`: Boolean whether or not we have a PyTorch array corresponding to the \n",
        "\n",
        "`scan_shape`: The original dimensions of the scan.\n",
        "\n",
        "`iop`: The intraocular pressure associated with the scan.\n",
        "\n",
        "`icp`: The intracranial pressure associated with the scan. Used as label."
      ]
    },
    {
      "cell_type": "code",
      "metadata": {
        "id": "O2vSihjuVG-k"
      },
      "source": [
        "import pandas as pd \n",
        "import os \n",
        "import numpy as np\n",
        "import shutil\n",
        "\n",
        "import gspread\n",
        "from google.colab import auth\n",
        "from oauth2client.client import GoogleCredentials\n",
        "\n",
        "auth.authenticate_user()\n",
        "gc = gspread.authorize(GoogleCredentials.get_application_default())\n",
        "worksheet = gc.open('Monkey Data').sheet1\n",
        "rows = worksheet.get_all_values()\n",
        "data = pd.DataFrame.from_records(rows[1:])\n",
        "data.columns = rows[0]"
      ],
      "execution_count": 3,
      "outputs": []
    },
    {
      "cell_type": "code",
      "metadata": {
        "colab": {
          "base_uri": "https://localhost:8080/",
          "height": 428
        },
        "id": "WSMwi7v_x9Zx",
        "outputId": "e674d539-d857-43af-c8b4-430310efb407"
      },
      "source": [
        "data.head(5)"
      ],
      "execution_count": 4,
      "outputs": [
        {
          "output_type": "execute_result",
          "data": {
            "text/html": [
              "<div>\n",
              "<style scoped>\n",
              "    .dataframe tbody tr th:only-of-type {\n",
              "        vertical-align: middle;\n",
              "    }\n",
              "\n",
              "    .dataframe tbody tr th {\n",
              "        vertical-align: top;\n",
              "    }\n",
              "\n",
              "    .dataframe thead th {\n",
              "        text-align: right;\n",
              "    }\n",
              "</style>\n",
              "<table border=\"1\" class=\"dataframe\">\n",
              "  <thead>\n",
              "    <tr style=\"text-align: right;\">\n",
              "      <th></th>\n",
              "      <th>id</th>\n",
              "      <th>monkey_id</th>\n",
              "      <th>training</th>\n",
              "      <th>oct_present</th>\n",
              "      <th>tiff_present</th>\n",
              "      <th>original scan folder (OCT)</th>\n",
              "      <th>original scan folder (tiff)</th>\n",
              "      <th>original scan file</th>\n",
              "      <th>scan date</th>\n",
              "      <th>scan time</th>\n",
              "      <th>eyeball (od or os)</th>\n",
              "      <th>iop</th>\n",
              "      <th>icp</th>\n",
              "      <th>scan area</th>\n",
              "      <th>scan notes</th>\n",
              "      <th>handler</th>\n",
              "      <th>eric notes</th>\n",
              "      <th>constructed_filepath</th>\n",
              "      <th>exists</th>\n",
              "      <th>scan_shape</th>\n",
              "    </tr>\n",
              "  </thead>\n",
              "  <tbody>\n",
              "    <tr>\n",
              "      <th>0</th>\n",
              "      <td>1</td>\n",
              "      <td>1</td>\n",
              "      <td>FALSE</td>\n",
              "      <td>FALSE</td>\n",
              "      <td>FALSE</td>\n",
              "      <td>monkey_1_4.25.13/raw bog and tiffs/icpnormal/1...</td>\n",
              "      <td>baseline</td>\n",
              "      <td>9</td>\n",
              "      <td>04/25/2013</td>\n",
              "      <td>11:43</td>\n",
              "      <td>OS</td>\n",
              "      <td>15</td>\n",
              "      <td>8.5</td>\n",
              "      <td>5x5</td>\n",
              "      <td></td>\n",
              "      <td>zixiao</td>\n",
              "      <td></td>\n",
              "      <td></td>\n",
              "      <td>FALSE</td>\n",
              "      <td></td>\n",
              "    </tr>\n",
              "    <tr>\n",
              "      <th>1</th>\n",
              "      <td>2</td>\n",
              "      <td>1</td>\n",
              "      <td>TRUE</td>\n",
              "      <td>TRUE</td>\n",
              "      <td>TRUE</td>\n",
              "      <td>monkey_1_4.25.13/raw bog and tiffs/icpnormal/1...</td>\n",
              "      <td>monkey_1_4.25.13/'raw bog and tiffs'/icpnormal...</td>\n",
              "      <td>1</td>\n",
              "      <td>04/25/2013</td>\n",
              "      <td>11:45</td>\n",
              "      <td>OS</td>\n",
              "      <td>15</td>\n",
              "      <td>8.5</td>\n",
              "      <td>5x5</td>\n",
              "      <td></td>\n",
              "      <td>zixiao</td>\n",
              "      <td></td>\n",
              "      <td>monkey_1_4.25.13/raw bog and tiffs/icpnormal/1...</td>\n",
              "      <td>TRUE</td>\n",
              "      <td>[512, 512, 2048]</td>\n",
              "    </tr>\n",
              "    <tr>\n",
              "      <th>2</th>\n",
              "      <td>3</td>\n",
              "      <td>1</td>\n",
              "      <td>TRUE</td>\n",
              "      <td>TRUE</td>\n",
              "      <td>TRUE</td>\n",
              "      <td>monkey_1_4.25.13/raw bog and tiffs/icpnormal/1...</td>\n",
              "      <td>monkey_1_4.25.13/'raw bog and tiffs'/icpnormal...</td>\n",
              "      <td>2</td>\n",
              "      <td>04/25/2013</td>\n",
              "      <td>11:46</td>\n",
              "      <td>OS</td>\n",
              "      <td>15</td>\n",
              "      <td>8.5</td>\n",
              "      <td>5x5</td>\n",
              "      <td>good image</td>\n",
              "      <td>zixiao</td>\n",
              "      <td></td>\n",
              "      <td>monkey_1_4.25.13/raw bog and tiffs/icpnormal/1...</td>\n",
              "      <td>TRUE</td>\n",
              "      <td>[512, 512, 2048]</td>\n",
              "    </tr>\n",
              "    <tr>\n",
              "      <th>3</th>\n",
              "      <td>4</td>\n",
              "      <td>1</td>\n",
              "      <td>TRUE</td>\n",
              "      <td>TRUE</td>\n",
              "      <td>TRUE</td>\n",
              "      <td>monkey_1_4.25.13/raw bog and tiffs/icpnormal/1...</td>\n",
              "      <td>monkey_1_4.25.13/'raw bog and tiffs'/icpnormal...</td>\n",
              "      <td>3</td>\n",
              "      <td>04/25/2013</td>\n",
              "      <td>11:50</td>\n",
              "      <td>OS</td>\n",
              "      <td>15</td>\n",
              "      <td>8.5</td>\n",
              "      <td>3x3</td>\n",
              "      <td></td>\n",
              "      <td>zixiao</td>\n",
              "      <td></td>\n",
              "      <td>monkey_1_4.25.13/raw bog and tiffs/icpnormal/1...</td>\n",
              "      <td>TRUE</td>\n",
              "      <td>[512, 512, 2048]</td>\n",
              "    </tr>\n",
              "    <tr>\n",
              "      <th>4</th>\n",
              "      <td>5</td>\n",
              "      <td>1</td>\n",
              "      <td>TRUE</td>\n",
              "      <td>TRUE</td>\n",
              "      <td>TRUE</td>\n",
              "      <td>monkey_1_4.25.13/raw bog and tiffs/icpnormal/1...</td>\n",
              "      <td>monkey_1_4.25.13/'raw bog and tiffs'/icpnormal...</td>\n",
              "      <td>4</td>\n",
              "      <td>04/25/2013</td>\n",
              "      <td>11:51</td>\n",
              "      <td>OS</td>\n",
              "      <td>15</td>\n",
              "      <td>8.5</td>\n",
              "      <td>3x3</td>\n",
              "      <td>centered</td>\n",
              "      <td>zixiao</td>\n",
              "      <td></td>\n",
              "      <td>monkey_1_4.25.13/raw bog and tiffs/icpnormal/1...</td>\n",
              "      <td>TRUE</td>\n",
              "      <td>[512, 512, 2048]</td>\n",
              "    </tr>\n",
              "  </tbody>\n",
              "</table>\n",
              "</div>"
            ],
            "text/plain": [
              "  id monkey_id  ... exists        scan_shape\n",
              "0  1         1  ...  FALSE                  \n",
              "1  2         1  ...   TRUE  [512, 512, 2048]\n",
              "2  3         1  ...   TRUE  [512, 512, 2048]\n",
              "3  4         1  ...   TRUE  [512, 512, 2048]\n",
              "4  5         1  ...   TRUE  [512, 512, 2048]\n",
              "\n",
              "[5 rows x 20 columns]"
            ]
          },
          "metadata": {},
          "execution_count": 4
        }
      ]
    },
    {
      "cell_type": "markdown",
      "metadata": {
        "id": "HIZUk9vfSov7"
      },
      "source": [
        "## Clone the Github\n",
        "Not any different from your local command line. Since the repo is public, you do not even need to authenticate. Once you are done fiddling around, we recommend you export the notebook from Colab and make a pull request adding the notebook into the `src/notebooks` folder of the repo.\n",
        "\n",
        "Let's also add some symbolic links to make sure we can run the same code everywhere. \n",
        "\n",
        "- The original raw OCTs are put in the Capstone2021/data/raw/ folder.\n",
        "- The downsized Torch arrays are put in the Capstone2021/data/torch_arrays_128/ folder.\n",
        "- Model weights are put in the Capstone2021/models/ folder."
      ]
    },
    {
      "cell_type": "code",
      "metadata": {
        "colab": {
          "base_uri": "https://localhost:8080/"
        },
        "id": "EsvPUpI5QUpe",
        "outputId": "eed8fc18-08da-40a6-c28f-3a8cb2525f3c"
      },
      "source": [
        "!cd /content/\n",
        "!git clone https://github.com/Bulbasaurzc/Capstone2021\n",
        "!ln -s /content/gdrive/MyDrive/\"CDS Capstone Project\"/Data/torch_arrays_128/ Capstone2021/data/\n",
        "!ln -s /content/gdrive/MyDrive/\"CDS Capstone Project\"/Data/Raw Capstone2021/data/\n",
        "os.chdir('Capstone2021')"
      ],
      "execution_count": 30,
      "outputs": [
        {
          "output_type": "stream",
          "name": "stdout",
          "text": [
            "fatal: destination path 'Capstone2021' already exists and is not an empty directory.\n",
            "ln: failed to create symbolic link 'Capstone2021/data/torch_arrays_128': File exists\n",
            "ln: failed to create symbolic link 'Capstone2021/data/Raw': File exists\n"
          ]
        }
      ]
    },
    {
      "cell_type": "markdown",
      "metadata": {
        "id": "2FZ9rEmh34c6"
      },
      "source": [
        "## You might want to switch to your branch"
      ]
    },
    {
      "cell_type": "code",
      "metadata": {
        "colab": {
          "base_uri": "https://localhost:8080/"
        },
        "id": "TIPRad1c3Sw-",
        "outputId": "a32335b9-2a0f-4fed-8bfa-b05105439a93"
      },
      "source": [
        "!git pull\n",
        "!git checkout eric\n",
        "!git checkout main"
      ],
      "execution_count": 55,
      "outputs": [
        {
          "output_type": "stream",
          "name": "stdout",
          "text": [
            "remote: Enumerating objects: 7, done.\u001b[K\n",
            "remote: Counting objects:  14% (1/7)\u001b[K\rremote: Counting objects:  28% (2/7)\u001b[K\rremote: Counting objects:  42% (3/7)\u001b[K\rremote: Counting objects:  57% (4/7)\u001b[K\rremote: Counting objects:  71% (5/7)\u001b[K\rremote: Counting objects:  85% (6/7)\u001b[K\rremote: Counting objects: 100% (7/7)\u001b[K\rremote: Counting objects: 100% (7/7), done.\u001b[K\n",
            "remote: Compressing objects:  50% (1/2)\u001b[K\rremote: Compressing objects: 100% (2/2)\u001b[K\rremote: Compressing objects: 100% (2/2), done.\u001b[K\n",
            "Unpacking objects:  25% (1/4)   \rUnpacking objects:  50% (2/4)   \rUnpacking objects:  75% (3/4)   \rremote: Total 4 (delta 2), reused 4 (delta 2), pack-reused 0\u001b[K\n",
            "Unpacking objects: 100% (4/4)   \rUnpacking objects: 100% (4/4), done.\n",
            "From https://github.com/Bulbasaurzc/Capstone2021\n",
            "   dd138e0..f9c9e58  eric       -> origin/eric\n",
            "Updating dd138e0..f9c9e58\n",
            "Fast-forward\n",
            " data/monkey_data.csv | 3534 \u001b[32m+++++++++++++++++++++++++\u001b[m\u001b[31m-------------------------\u001b[m\n",
            " 1 file changed, 1767 insertions(+), 1767 deletions(-)\n",
            "Already on 'eric'\n",
            "Your branch is up to date with 'origin/eric'.\n"
          ]
        }
      ]
    },
    {
      "cell_type": "markdown",
      "metadata": {
        "id": "PxUd_Kxm1t_0"
      },
      "source": [
        "# Use our custom Dataset class\n",
        "This code will lazily load in the downsized PyTorch arrays for the monkeys. You can pass this into a standard PyTorch DataLoader."
      ]
    },
    {
      "cell_type": "code",
      "metadata": {
        "colab": {
          "base_uri": "https://localhost:8080/"
        },
        "id": "8JjlQOAuzm_g",
        "outputId": "6ec4dba5-862f-498c-aa50-b8157c0150e8"
      },
      "source": [
        "from src.data.torch_utils import MonkeyEyeballsDataset\n",
        "from torch.utils.data import Dataset, DataLoader\n",
        "\n",
        "labels = pd.read_csv('data/monkey_data.csv')\n",
        "labels = labels[labels['torch_present'] & ~labels['icp'].isnull() & ~labels['iop'].isnull() & labels['icp'] > 0] \n",
        "train_labels = labels[labels['monkey_id'] != 14]\n",
        "val_labels = labels[labels['monkey_id'] == 14]\n",
        "\n",
        "med_train = MonkeyEyeballsDataset('data/torch_arrays_128', train_labels)\n",
        "med_val = MonkeyEyeballsDataset('data/torch_arrays_128', val_labels)\n",
        "\n",
        "dataloader_train = DataLoader(med_train, batch_size=8, num_workers=4, shuffle=True, pin_memory=True) \n",
        "dataloader_val = DataLoader(med_val, batch_size=8, num_workers=4, shuffle=False, pin_memory=True)"
      ],
      "execution_count": 66,
      "outputs": [
        {
          "output_type": "stream",
          "name": "stderr",
          "text": [
            "/usr/local/lib/python3.7/dist-packages/torch/utils/data/dataloader.py:481: UserWarning: This DataLoader will create 4 worker processes in total. Our suggested max number of worker in current system is 2, which is smaller than what this DataLoader is going to create. Please be aware that excessive worker creation might get DataLoader running slow or even freeze, lower the worker number to avoid potential slowness/freeze if necessary.\n",
            "  cpuset_checked))\n"
          ]
        }
      ]
    },
    {
      "cell_type": "markdown",
      "metadata": {
        "id": "1zlvNvDuS08H"
      },
      "source": [
        "# Installing requirements\n",
        "The Github should have a `requirements.txt` file which we can use to set up our local environment."
      ]
    },
    {
      "cell_type": "code",
      "metadata": {
        "id": "KqNoHdT-UR3H"
      },
      "source": [
        "!pip3 install -r requirements.txt"
      ],
      "execution_count": null,
      "outputs": []
    }
  ]
}