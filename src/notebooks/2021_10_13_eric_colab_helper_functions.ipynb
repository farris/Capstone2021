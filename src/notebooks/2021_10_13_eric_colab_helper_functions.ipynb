{
  "nbformat": 4,
  "nbformat_minor": 0,
  "metadata": {
    "colab": {
      "name": "2021-10-13_eric_colab-helper-functions.ipynb",
      "provenance": [],
      "collapsed_sections": []
    },
    "kernelspec": {
      "name": "python3",
      "display_name": "Python 3"
    },
    "language_info": {
      "name": "python"
    }
  },
  "cells": [
    {
      "cell_type": "markdown",
      "metadata": {
        "id": "ILihxJL_PYEZ"
      },
      "source": [
        "# Colab Helper Functions\n",
        "\n",
        "## Mount the Google Drive\n",
        "You will need to grant Drive access to Colab every time you start a new machine. You can do this by running the following cell. "
      ]
    },
    {
      "cell_type": "code",
      "metadata": {
        "colab": {
          "base_uri": "https://localhost:8080/"
        },
        "id": "S9lFKawEPGUE",
        "outputId": "69a12607-3c6d-4cc8-8101-0aef89658f89"
      },
      "source": [
        "from google.colab import drive\n",
        "drive.mount('/content/gdrive', force_remount=True)"
      ],
      "execution_count": 10,
      "outputs": [
        {
          "output_type": "stream",
          "name": "stdout",
          "text": [
            "Mounted at /content/gdrive\n"
          ]
        }
      ]
    },
    {
      "cell_type": "markdown",
      "metadata": {
        "id": "qK4uE2LgSPlV"
      },
      "source": [
        "Once you have Drive authenticated, you can browse for the file by clicking the Folder icon on the left sidebar. For Eric, the Capstone project folder can be found using the path in the next cell. You can have the same path by adding a shortcut to the shared Drive to your personal GDrive."
      ]
    },
    {
      "cell_type": "code",
      "metadata": {
        "colab": {
          "base_uri": "https://localhost:8080/"
        },
        "id": "yvZUTDDyP5vn",
        "outputId": "bf6d2e21-16e2-4938-b25a-e56a96c086d5"
      },
      "source": [
        "!ls gdrive/MyDrive/'CDS Capstone Project'/Data"
      ],
      "execution_count": 13,
      "outputs": [
        {
          "output_type": "stream",
          "name": "stdout",
          "text": [
            "'BigPurple Introduction.pptx'\t\t  'Monkey data issue.gsheet'\n",
            "'Converting OCT to Tiff -- 9-27-21.pptx'   Monkey_excels\n",
            "'Data issues.gdoc'\t\t\t  'Raw OCT Monkey Files'\n",
            " monkey_4\t\t\t\t  'Share Drive Access.docx'\n",
            " monkey_5\t\t\t\t  'TIFF Monkey Files'\n",
            "'Monkey Data.gsheet'\n"
          ]
        }
      ]
    },
    {
      "cell_type": "markdown",
      "metadata": {
        "id": "HIZUk9vfSov7"
      },
      "source": [
        "## Clone the Github\n",
        "Not any different from your local command line. Since the repo is public, you do not even need to authenticate. Once you are done fiddling around, we recommend you export the notebook from Colab and make a pull request adding the notebook into the `src/notebooks` folder of the repo."
      ]
    },
    {
      "cell_type": "code",
      "metadata": {
        "colab": {
          "base_uri": "https://localhost:8080/"
        },
        "id": "EsvPUpI5QUpe",
        "outputId": "0e7bc9ae-1b07-4a02-da94-6ed28b112afd"
      },
      "source": [
        "!git clone https://github.com/Bulbasaurzc/Capstone2021"
      ],
      "execution_count": 14,
      "outputs": [
        {
          "output_type": "stream",
          "name": "stdout",
          "text": [
            "Cloning into 'Capstone2021'...\n",
            "remote: Enumerating objects: 12, done.\u001b[K\n",
            "remote: Counting objects: 100% (12/12), done.\u001b[K\n",
            "remote: Compressing objects: 100% (9/9), done.\u001b[K\n",
            "remote: Total 12 (delta 2), reused 7 (delta 0), pack-reused 0\u001b[K\n",
            "Unpacking objects: 100% (12/12), done.\n"
          ]
        }
      ]
    },
    {
      "cell_type": "code",
      "metadata": {
        "id": "ohQWlKb5TCCo"
      },
      "source": [
        "!ls Capstone2021/src/notebooks"
      ],
      "execution_count": 19,
      "outputs": []
    },
    {
      "cell_type": "markdown",
      "metadata": {
        "id": "1zlvNvDuS08H"
      },
      "source": [
        "# Installing requirements\n",
        "The Github should have a `requirements.txt` file which we can use to set up our local environment."
      ]
    },
    {
      "cell_type": "code",
      "metadata": {
        "id": "KqNoHdT-UR3H"
      },
      "source": [
        "!pip3 install -r Capstone2021/requirements.txt"
      ],
      "execution_count": null,
      "outputs": []
    }
  ]
}