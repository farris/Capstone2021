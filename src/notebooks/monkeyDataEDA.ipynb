{
 "cells": [
  {
   "cell_type": "code",
   "execution_count": 2,
   "id": "74b3e819",
   "metadata": {},
   "outputs": [],
   "source": [
    "import pandas as pd\n",
    "import numpy as np\n",
    "import sys\n",
    "sys.path.append('..')\n",
    "import os"
   ]
  },
  {
   "cell_type": "code",
   "execution_count": 3,
   "id": "e12c3a6d",
   "metadata": {},
   "outputs": [],
   "source": [
    "base_path =  os.path.join(os.getcwd(), '..',\"..\")\n",
    "monkey_path = os.path.join(base_path, 'data')\n",
    "monkey = pd.read_csv(os.path.join(monkey_path, 'monkey_data.csv'))"
   ]
  },
  {
   "cell_type": "code",
   "execution_count": 7,
   "id": "5617ae83",
   "metadata": {},
   "outputs": [
    {
     "data": {
      "text/plain": [
       "(1755, 21)"
      ]
     },
     "execution_count": 7,
     "metadata": {},
     "output_type": "execute_result"
    }
   ],
   "source": [
    "monkey.shape"
   ]
  },
  {
   "cell_type": "code",
   "execution_count": 8,
   "id": "49110404",
   "metadata": {},
   "outputs": [
    {
     "data": {
      "text/html": [
       "<div>\n",
       "<style scoped>\n",
       "    .dataframe tbody tr th:only-of-type {\n",
       "        vertical-align: middle;\n",
       "    }\n",
       "\n",
       "    .dataframe tbody tr th {\n",
       "        vertical-align: top;\n",
       "    }\n",
       "\n",
       "    .dataframe thead th {\n",
       "        text-align: right;\n",
       "    }\n",
       "</style>\n",
       "<table border=\"1\" class=\"dataframe\">\n",
       "  <thead>\n",
       "    <tr style=\"text-align: right;\">\n",
       "      <th></th>\n",
       "      <th>id</th>\n",
       "      <th>monkey_id</th>\n",
       "      <th>iop</th>\n",
       "      <th>icp</th>\n",
       "      <th>torch_present</th>\n",
       "      <th>scan_shape</th>\n",
       "      <th>constructed_filepath</th>\n",
       "      <th>training</th>\n",
       "      <th>oct_present</th>\n",
       "      <th>tiff_present</th>\n",
       "      <th>...</th>\n",
       "      <th>original scan folder (tiff)</th>\n",
       "      <th>original scan file</th>\n",
       "      <th>scan date</th>\n",
       "      <th>scan time</th>\n",
       "      <th>eyeball (od or os)</th>\n",
       "      <th>scan area</th>\n",
       "      <th>scan notes</th>\n",
       "      <th>handler</th>\n",
       "      <th>eric notes</th>\n",
       "      <th>exists</th>\n",
       "    </tr>\n",
       "  </thead>\n",
       "  <tbody>\n",
       "    <tr>\n",
       "      <th>0</th>\n",
       "      <td>1</td>\n",
       "      <td>1.0</td>\n",
       "      <td>15.0</td>\n",
       "      <td>8.5</td>\n",
       "      <td>False</td>\n",
       "      <td>NaN</td>\n",
       "      <td>NaN</td>\n",
       "      <td>False</td>\n",
       "      <td>FALSE</td>\n",
       "      <td>FALSE</td>\n",
       "      <td>...</td>\n",
       "      <td>baseline</td>\n",
       "      <td>9.0</td>\n",
       "      <td>04/25/2013</td>\n",
       "      <td>11:43</td>\n",
       "      <td>OS</td>\n",
       "      <td>5x5</td>\n",
       "      <td>NaN</td>\n",
       "      <td>zixiao</td>\n",
       "      <td>NaN</td>\n",
       "      <td>False</td>\n",
       "    </tr>\n",
       "    <tr>\n",
       "      <th>1</th>\n",
       "      <td>2</td>\n",
       "      <td>1.0</td>\n",
       "      <td>15.0</td>\n",
       "      <td>8.5</td>\n",
       "      <td>True</td>\n",
       "      <td>[512, 512, 2048]</td>\n",
       "      <td>monkey_1_4.25.13/raw bog and tiffs/icpnormal/1...</td>\n",
       "      <td>True</td>\n",
       "      <td>TRUE</td>\n",
       "      <td>TRUE</td>\n",
       "      <td>...</td>\n",
       "      <td>monkey_1_4.25.13/'raw bog and tiffs'/icpnormal...</td>\n",
       "      <td>1.0</td>\n",
       "      <td>04/25/2013</td>\n",
       "      <td>11:45</td>\n",
       "      <td>OS</td>\n",
       "      <td>5x5</td>\n",
       "      <td>NaN</td>\n",
       "      <td>zixiao</td>\n",
       "      <td>NaN</td>\n",
       "      <td>True</td>\n",
       "    </tr>\n",
       "    <tr>\n",
       "      <th>2</th>\n",
       "      <td>3</td>\n",
       "      <td>1.0</td>\n",
       "      <td>15.0</td>\n",
       "      <td>8.5</td>\n",
       "      <td>True</td>\n",
       "      <td>[512, 512, 2048]</td>\n",
       "      <td>monkey_1_4.25.13/raw bog and tiffs/icpnormal/1...</td>\n",
       "      <td>True</td>\n",
       "      <td>TRUE</td>\n",
       "      <td>TRUE</td>\n",
       "      <td>...</td>\n",
       "      <td>monkey_1_4.25.13/'raw bog and tiffs'/icpnormal...</td>\n",
       "      <td>2.0</td>\n",
       "      <td>04/25/2013</td>\n",
       "      <td>11:46</td>\n",
       "      <td>OS</td>\n",
       "      <td>5x5</td>\n",
       "      <td>good image</td>\n",
       "      <td>zixiao</td>\n",
       "      <td>NaN</td>\n",
       "      <td>True</td>\n",
       "    </tr>\n",
       "    <tr>\n",
       "      <th>3</th>\n",
       "      <td>4</td>\n",
       "      <td>1.0</td>\n",
       "      <td>15.0</td>\n",
       "      <td>8.5</td>\n",
       "      <td>True</td>\n",
       "      <td>[512, 512, 2048]</td>\n",
       "      <td>monkey_1_4.25.13/raw bog and tiffs/icpnormal/1...</td>\n",
       "      <td>True</td>\n",
       "      <td>TRUE</td>\n",
       "      <td>TRUE</td>\n",
       "      <td>...</td>\n",
       "      <td>monkey_1_4.25.13/'raw bog and tiffs'/icpnormal...</td>\n",
       "      <td>3.0</td>\n",
       "      <td>04/25/2013</td>\n",
       "      <td>11:50</td>\n",
       "      <td>OS</td>\n",
       "      <td>3x3</td>\n",
       "      <td>NaN</td>\n",
       "      <td>zixiao</td>\n",
       "      <td>NaN</td>\n",
       "      <td>True</td>\n",
       "    </tr>\n",
       "    <tr>\n",
       "      <th>4</th>\n",
       "      <td>5</td>\n",
       "      <td>1.0</td>\n",
       "      <td>15.0</td>\n",
       "      <td>8.5</td>\n",
       "      <td>True</td>\n",
       "      <td>[512, 512, 2048]</td>\n",
       "      <td>monkey_1_4.25.13/raw bog and tiffs/icpnormal/1...</td>\n",
       "      <td>True</td>\n",
       "      <td>TRUE</td>\n",
       "      <td>TRUE</td>\n",
       "      <td>...</td>\n",
       "      <td>monkey_1_4.25.13/'raw bog and tiffs'/icpnormal...</td>\n",
       "      <td>4.0</td>\n",
       "      <td>04/25/2013</td>\n",
       "      <td>11:51</td>\n",
       "      <td>OS</td>\n",
       "      <td>3x3</td>\n",
       "      <td>centered</td>\n",
       "      <td>zixiao</td>\n",
       "      <td>NaN</td>\n",
       "      <td>True</td>\n",
       "    </tr>\n",
       "  </tbody>\n",
       "</table>\n",
       "<p>5 rows × 21 columns</p>\n",
       "</div>"
      ],
      "text/plain": [
       "   id  monkey_id   iop  icp  torch_present        scan_shape  \\\n",
       "0   1        1.0  15.0  8.5          False               NaN   \n",
       "1   2        1.0  15.0  8.5           True  [512, 512, 2048]   \n",
       "2   3        1.0  15.0  8.5           True  [512, 512, 2048]   \n",
       "3   4        1.0  15.0  8.5           True  [512, 512, 2048]   \n",
       "4   5        1.0  15.0  8.5           True  [512, 512, 2048]   \n",
       "\n",
       "                                constructed_filepath  training oct_present  \\\n",
       "0                                                NaN     False       FALSE   \n",
       "1  monkey_1_4.25.13/raw bog and tiffs/icpnormal/1...      True        TRUE   \n",
       "2  monkey_1_4.25.13/raw bog and tiffs/icpnormal/1...      True        TRUE   \n",
       "3  monkey_1_4.25.13/raw bog and tiffs/icpnormal/1...      True        TRUE   \n",
       "4  monkey_1_4.25.13/raw bog and tiffs/icpnormal/1...      True        TRUE   \n",
       "\n",
       "  tiff_present  ...                        original scan folder (tiff)  \\\n",
       "0        FALSE  ...                                           baseline   \n",
       "1         TRUE  ...  monkey_1_4.25.13/'raw bog and tiffs'/icpnormal...   \n",
       "2         TRUE  ...  monkey_1_4.25.13/'raw bog and tiffs'/icpnormal...   \n",
       "3         TRUE  ...  monkey_1_4.25.13/'raw bog and tiffs'/icpnormal...   \n",
       "4         TRUE  ...  monkey_1_4.25.13/'raw bog and tiffs'/icpnormal...   \n",
       "\n",
       "  original scan file   scan date scan time eyeball (od or os) scan area  \\\n",
       "0                9.0  04/25/2013     11:43                 OS       5x5   \n",
       "1                1.0  04/25/2013     11:45                 OS       5x5   \n",
       "2                2.0  04/25/2013     11:46                 OS       5x5   \n",
       "3                3.0  04/25/2013     11:50                 OS       3x3   \n",
       "4                4.0  04/25/2013     11:51                 OS       3x3   \n",
       "\n",
       "   scan notes handler eric notes exists  \n",
       "0         NaN  zixiao        NaN  False  \n",
       "1         NaN  zixiao        NaN   True  \n",
       "2  good image  zixiao        NaN   True  \n",
       "3         NaN  zixiao        NaN   True  \n",
       "4    centered  zixiao        NaN   True  \n",
       "\n",
       "[5 rows x 21 columns]"
      ]
     },
     "execution_count": 8,
     "metadata": {},
     "output_type": "execute_result"
    }
   ],
   "source": [
    "monkey.head()"
   ]
  },
  {
   "cell_type": "code",
   "execution_count": 26,
   "id": "b9b24ac3",
   "metadata": {},
   "outputs": [
    {
     "data": {
      "text/plain": [
       "3x3      640\n",
       "5x5      421\n",
       "7x7      321\n",
       "7x0.1     82\n",
       "6x6       73\n",
       "12x12     24\n",
       "7x0.5     17\n",
       "0.1x7     14\n",
       "20x20      2\n",
       "Name: scan area, dtype: int64"
      ]
     },
     "execution_count": 26,
     "metadata": {},
     "output_type": "execute_result"
    }
   ],
   "source": [
    "#how many are of right dimension\n",
    "monkey['scan area'].value_counts()"
   ]
  },
  {
   "cell_type": "code",
   "execution_count": 5,
   "id": "fdf80b60",
   "metadata": {},
   "outputs": [
    {
     "data": {
      "text/plain": [
       "True     1581\n",
       "False     174\n",
       "Name: torch_present, dtype: int64"
      ]
     },
     "execution_count": 5,
     "metadata": {},
     "output_type": "execute_result"
    }
   ],
   "source": [
    "monkey['torch_present'].value_counts()"
   ]
  },
  {
   "cell_type": "code",
   "execution_count": 20,
   "id": "c45ad40c",
   "metadata": {},
   "outputs": [
    {
     "data": {
      "text/plain": [
       "110"
      ]
     },
     "execution_count": 20,
     "metadata": {},
     "output_type": "execute_result"
    }
   ],
   "source": [
    "#num of instances do not have a constructed_filepath attached\n",
    "monkey['constructed_filepath'].isna().sum()"
   ]
  },
  {
   "cell_type": "code",
   "execution_count": 21,
   "id": "cd36444b",
   "metadata": {},
   "outputs": [
    {
     "data": {
      "text/plain": [
       "104"
      ]
     },
     "execution_count": 21,
     "metadata": {},
     "output_type": "execute_result"
    }
   ],
   "source": [
    "#num of instances do not have a original scan folder (OCT) attached\n",
    "monkey['original scan folder (OCT)'].isna().sum()"
   ]
  },
  {
   "cell_type": "code",
   "execution_count": 22,
   "id": "4049994a",
   "metadata": {},
   "outputs": [
    {
     "data": {
      "text/plain": [
       "846"
      ]
     },
     "execution_count": 22,
     "metadata": {},
     "output_type": "execute_result"
    }
   ],
   "source": [
    "#num of instances do not have a original scan folder (tiff) attached\n",
    "monkey['original scan folder (tiff)'].isna().sum()"
   ]
  },
  {
   "cell_type": "code",
   "execution_count": 23,
   "id": "b788b12d",
   "metadata": {},
   "outputs": [
    {
     "data": {
      "text/plain": [
       "327"
      ]
     },
     "execution_count": 23,
     "metadata": {},
     "output_type": "execute_result"
    }
   ],
   "source": [
    "#num of instances that doesn't have iop value filled out\n",
    "monkey['iop'].isna().sum()"
   ]
  },
  {
   "cell_type": "code",
   "execution_count": 24,
   "id": "a420fa95",
   "metadata": {},
   "outputs": [
    {
     "data": {
      "text/plain": [
       "297"
      ]
     },
     "execution_count": 24,
     "metadata": {},
     "output_type": "execute_result"
    }
   ],
   "source": [
    "#num of instances that doesn't have icp value filled out\n",
    "monkey['icp'].isna().sum()"
   ]
  },
  {
   "cell_type": "code",
   "execution_count": 4,
   "id": "1f76d0a0",
   "metadata": {},
   "outputs": [
    {
     "data": {
      "text/plain": [
       "Good                                                                                                                             24\n",
       "OK                                                                                                                               11\n",
       "poor quality                                                                                                                     11\n",
       "good quality                                                                                                                      5\n",
       "Low                                                                                                                               4\n",
       "Pretty good                                                                                                                       4\n",
       "poor quality, relative to previous scans                                                                                          4\n",
       "One of the best LC                                                                                                                4\n",
       "transition                                                                                                                        3\n",
       "Very good                                                                                                                         3\n",
       "better                                                                                                                            3\n",
       "Poor                                                                                                                              3\n",
       "best?                                                                                                                             2\n",
       "Just OK                                                                                                                           2\n",
       "Bad                                                                                                                               2\n",
       "good                                                                                                                              2\n",
       "Not bad, OK                                                                                                                       2\n",
       "not EDI                                                                                                                           2\n",
       "EDI                                                                                                                               2\n",
       "Good; Find out that all this time were changing the wrong IOP reservoir (the one attached to the OD)                              1\n",
       "OK, wasn`t great                                                                                                                  1\n",
       "Bad (see ALC but not PLC)                                                                                                         1\n",
       "OK (clear pore on one side)                                                                                                       1\n",
       "Nice (Still see beams in pores, but there seems to be some distortions. Left LC looks good, not sure what is wrong with R LC)     1\n",
       "Excellent                                                                                                                         1\n",
       "OK, not good                                                                                                                      1\n",
       "crappy                                                                                                                            1\n",
       "Really bad                                                                                                                        1\n",
       "OK, nice curvature of LC                                                                                                          1\n",
       "Poor; ICP starts to drop, no observable reason, possible leakage. Decided not to continue, and proceed with OS                    1\n",
       "Beautiful                                                                                                                         1\n",
       "good image                                                                                                                        1\n",
       "image flipped                                                                                                                     1\n",
       "low quality                                                                                                                       1\n",
       "poorish quality                                                                                                                   1\n",
       "bad quality, poor focus EDI                                                                                                       1\n",
       "EDI-best                                                                                                                          1\n",
       "EDI-good                                                                                                                          1\n",
       "centered better                                                                                                                   1\n",
       "best                                                                                                                              1\n",
       "good, not centered                                                                                                                1\n",
       "not centered, better quality                                                                                                      1\n",
       "not centered                                                                                                                      1\n",
       "centered - good?                                                                                                                  1\n",
       "redo from previous fluctuating ICP at this IOP                                                                                    1\n",
       "can see bowing of RPE                                                                                                             1\n",
       "10 doppler                                                                                                                        1\n",
       "can see pulse during scanning                                                                                                     1\n",
       "beautiful                                                                                                                         1\n",
       "test scan to check for quality after changing ICP                                                                                 1\n",
       "quality decreasing                                                                                                                1\n",
       "awful                                                                                                                             1\n",
       "centered                                                                                                                          1\n",
       "not great                                                                                                                         1\n",
       "good quality- similar to initial scans                                                                                            1\n",
       "Normal Gaze                                                                                                                       1\n",
       "Name: scan notes, dtype: int64"
      ]
     },
     "execution_count": 4,
     "metadata": {},
     "output_type": "execute_result"
    }
   ],
   "source": [
    "monkey['scan notes'].value_counts()"
   ]
  },
  {
   "cell_type": "code",
   "execution_count": null,
   "id": "25056902",
   "metadata": {},
   "outputs": [],
   "source": []
  }
 ],
 "metadata": {
  "kernelspec": {
   "display_name": "Python 3 (ipykernel)",
   "language": "python",
   "name": "python3"
  },
  "language_info": {
   "codemirror_mode": {
    "name": "ipython",
    "version": 3
   },
   "file_extension": ".py",
   "mimetype": "text/x-python",
   "name": "python",
   "nbconvert_exporter": "python",
   "pygments_lexer": "ipython3",
   "version": "3.8.5"
  }
 },
 "nbformat": 4,
 "nbformat_minor": 5
}
